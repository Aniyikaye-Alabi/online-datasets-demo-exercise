{
 "cells": [
  {
   "cell_type": "code",
   "execution_count": null,
   "id": "513d7ca5-5fcc-46ed-a68c-b2e56967e32f",
   "metadata": {},
   "outputs": [],
   "source": [
    "pip install ucimlrepo"
   ]
  },
  {
   "cell_type": "code",
   "execution_count": null,
   "id": "bab83a07-af14-4806-98e2-500644937724",
   "metadata": {},
   "outputs": [],
   "source": [
    "from ucimlrepo import fetch_ucirepo \n",
    "  \n",
    "# fetch dataset from uci repo library\n",
    "predict_students_dropout_and_academic_success = fetch_ucirepo(id=697)"
   ]
  },
  {
   "cell_type": "code",
   "execution_count": null,
   "id": "b5432859-8462-4559-a49c-5849f1d99745",
   "metadata": {},
   "outputs": [],
   "source": [
    "# variable information \n",
    "print(predict_students_dropout_and_academic_success.variables)"
   ]
  },
  {
   "cell_type": "code",
   "execution_count": null,
   "id": "33238332-e9e0-4c20-bff3-d4352a5126ba",
   "metadata": {},
   "outputs": [],
   "source": [
    "import pandas as pd\n",
    "\n",
    "# data (as pandas dataframes) \n",
    "X = predict_students_dropout_and_academic_success.data.features \n",
    "y = predict_students_dropout_and_academic_success.data.targets \n",
    "\n",
    "# print the first 3 rows of the dataset\n",
    "print(X.head(3))"
   ]
  },
  {
   "cell_type": "code",
   "execution_count": null,
   "id": "7a169eec-5cd3-4c80-a33f-5fea2534115d",
   "metadata": {},
   "outputs": [],
   "source": [
    "# print the last 8 rows of the dataset\n",
    "print(X.tail(8))"
   ]
  },
  {
   "cell_type": "code",
   "execution_count": null,
   "id": "bcc2eb88-c3a9-4c2d-8af7-92e152f28c44",
   "metadata": {},
   "outputs": [],
   "source": []
  }
 ],
 "metadata": {
  "kernelspec": {
   "display_name": "Python [conda env:base] *",
   "language": "python",
   "name": "conda-base-py"
  },
  "language_info": {
   "codemirror_mode": {
    "name": "ipython",
    "version": 3
   },
   "file_extension": ".py",
   "mimetype": "text/x-python",
   "name": "python",
   "nbconvert_exporter": "python",
   "pygments_lexer": "ipython3",
   "version": "3.12.7"
  }
 },
 "nbformat": 4,
 "nbformat_minor": 5
}
